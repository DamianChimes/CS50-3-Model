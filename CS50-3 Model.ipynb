{
 "cells": [
  {
   "cell_type": "code",
   "execution_count": 1,
   "metadata": {},
   "outputs": [],
   "source": [
    "import numpy as np\n",
    "import matplotlib.pyplot as plt\n",
    "import pandas as pd\n",
    "import tensorflow as tf\n",
    "import time\n",
    "from datetime import datetime\n",
    "import os\n",
    "\n",
    "# Model architecture\n",
    "from sklearn.svm import SVC\n",
    "from sklearn.ensemble import RandomForestClassifier\n",
    "from sklearn.model_selection import train_test_split\n",
    "from tensorflow.keras.applications.imagenet_utils import preprocess_input\n",
    "from predict_proba import predict_proba\n",
    "\n",
    "# Ensemble model class\n",
    "from ensemblemodel import EnsembleModel\n",
    "from ensemblemodel import ScoreMetrics, PrintConfusionMatrix\n",
    "\n",
    "import numpy as np\n",
    "import tensorflow as tf\n",
    "from sklearn.svm import SVC\n",
    "from sklearn.ensemble import RandomForestClassifier\n",
    "from tensorflow.keras.applications.imagenet_utils import preprocess_input\n",
    "from tensorflow.keras.preprocessing.image import ImageDataGenerator\n",
    "from dataloader import DataLoader\n",
    "from sklearn.pipeline import make_pipeline\n",
    "from sklearn.preprocessing import StandardScaler"
   ]
  },
  {
   "cell_type": "markdown",
   "metadata": {},
   "source": [
    "# ResNet Baseline"
   ]
  },
  {
   "cell_type": "code",
   "execution_count": 2,
   "metadata": {},
   "outputs": [],
   "source": [
    "# Specify fold 1 to 10, we cannot loop this due to memory limit\n",
    "\n",
    "fold = 1\n",
    "\n",
    "X_train = np.load(f'./data/input/xtrain_{fold}.npy')\n",
    "Y_train = np.load(f'./data/input/ytrain_{fold}.npy')\n",
    "X_test = np.load(f'./data/input/xtest_{fold}.npy')\n",
    "Y_test = np.load(f'./data/input/ytest_{fold}.npy')\n",
    "\n",
    "X_train, X_val, Y_train, Y_val = train_test_split(X_train, Y_train, test_size=0.2, random_state=42)"
   ]
  },
  {
   "cell_type": "code",
   "execution_count": 3,
   "metadata": {},
   "outputs": [],
   "source": [
    "base_model = tf.keras.applications.resnet.ResNet50(input_shape=(224,224,3), include_top=False, weights='imagenet')"
   ]
  },
  {
   "cell_type": "code",
   "execution_count": null,
   "metadata": {},
   "outputs": [],
   "source": [
    "full_dataset_prediction = predict_proba(X_train, Y_train, X_test, base_model, validation_data=(X_val, Y_val), output_layer=\"fc\")\n",
    "print(fold)\n",
    "PrintConfusionMatrix(Y_test, full_dataset_prediction[:, 1], threshold=0.5)"
   ]
  },
  {
   "cell_type": "code",
   "execution_count": null,
   "metadata": {},
   "outputs": [],
   "source": [
    "X_train = np.load('./data/input/full_xtrain.npy')\n",
    "Y_train = np.load('./data/input/full_ytrain.npy')\n",
    "\n",
    "X_test = np.load('./data/input/xtest.npy')\n",
    "Y_test = np.load('./data/input/ytest.npy')\n",
    "\n",
    "X = np.concatenate((X_train, X_test), axis=0)\n",
    "Y = np.concatenate((Y_train, Y_test), axis=0)\n",
    "\n",
    "X_external = np.load('./data/input/xexternal.npy')\n",
    "Y_external = np.load('./data/input/yexternal.npy')"
   ]
  },
  {
   "cell_type": "code",
   "execution_count": null,
   "metadata": {},
   "outputs": [],
   "source": [
    "external_prediction = predict_proba(X, Y, X_external, base_model, validation_data=(X_test, Y_test), output_layer=\"fc\")\n",
    "PrintConfusionMatrix(Y_external, external_prediction[:,1], threshold=0.5)"
   ]
  },
  {
   "cell_type": "markdown",
   "metadata": {},
   "source": [
    "# CS50-3 Model"
   ]
  },
  {
   "cell_type": "code",
   "execution_count": null,
   "metadata": {},
   "outputs": [],
   "source": [
    "# Specify fold 1 to 10, we cannot loop this due to memory limit\n",
    "\n",
    "fold = 1\n",
    "\n",
    "X_train = np.load(f'./data/input/xtrain_{fold}.npy')\n",
    "Y_train = np.load(f'./data/input/ytrain_{fold}.npy')\n",
    "X_test = np.load(f'./data/input/xtest_{fold}.npy')\n",
    "Y_test = np.load(f'./data/input/ytest_{fold}.npy')"
   ]
  },
  {
   "cell_type": "code",
   "execution_count": null,
   "metadata": {},
   "outputs": [],
   "source": [
    "base_model = tf.keras.applications.resnet.ResNet50(input_shape=(224,224,3), include_top=False, weights='imagenet')"
   ]
  },
  {
   "cell_type": "code",
   "execution_count": null,
   "metadata": {},
   "outputs": [],
   "source": [
    "full_dataset_prediction = predict_proba(X_train, Y_train, X_test, base_model, validation_data=None, output_layer=\"svm\")\n",
    "print(fold)\n",
    "PrintConfusionMatrix(Y_test, full_dataset_prediction, threshold=0.5)"
   ]
  },
  {
   "cell_type": "code",
   "execution_count": 2,
   "metadata": {},
   "outputs": [],
   "source": [
    "X_train = np.load('./data/input/full_xtrain.npy')\n",
    "Y_train = np.load('./data/input/full_ytrain.npy')\n",
    "\n",
    "X_test = np.load('./data/input/xtest.npy')\n",
    "Y_test = np.load('./data/input/ytest.npy')\n",
    "\n",
    "X = np.concatenate((X_train, X_test), axis=0)\n",
    "Y = np.concatenate((Y_train, Y_test), axis=0)\n",
    "\n",
    "X_external = np.load('./data/input/xexternal.npy')\n",
    "Y_external = np.load('./data/input/yexternal.npy')"
   ]
  },
  {
   "cell_type": "code",
   "execution_count": null,
   "metadata": {},
   "outputs": [],
   "source": [
    "external_prediction = predict_proba(X, Y, X_external, base_model, validation_data=None, output_layer=\"svm\")\n",
    "PrintConfusionMatrix(Y_external, external_prediction, threshold=0.5)"
   ]
  },
  {
   "cell_type": "markdown",
   "metadata": {},
   "source": [
    "# Random Forest Model"
   ]
  },
  {
   "cell_type": "code",
   "execution_count": null,
   "metadata": {},
   "outputs": [],
   "source": [
    "for fold in range(1, 11):\n",
    "    X_train = np.load(f'./data/input/xtrain_{fold}.npy')\n",
    "    Y_train = np.load(f'./data/input/ytrain_{fold}.npy')\n",
    "    X_test = np.load(f'./data/input/xtest_{fold}.npy')\n",
    "    Y_test = np.load(f'./data/input/ytest_{fold}.npy')\n",
    "\n",
    "    layer = RandomForestClassifier(random_state=42, n_jobs=-1)\n",
    "    layer.fit(X_train, Y_train)\n",
    "    full_dataset_prediction = layer.predict(X_test)\n",
    "    print(fold)\n",
    "    PrintConfusionMatrix(Y_test, full_dataset_prediction, threshold=0.5)"
   ]
  },
  {
   "cell_type": "code",
   "execution_count": 2,
   "metadata": {},
   "outputs": [],
   "source": [
    "X_train = np.load('./data/input/full_xtrain.npy')\n",
    "Y_train = np.load('./data/input/full_ytrain.npy')\n",
    "\n",
    "X_test = np.load('./data/input/xtest.npy')\n",
    "Y_test = np.load('./data/input/ytest.npy')\n",
    "\n",
    "X = np.concatenate((X_train, X_test), axis=0)\n",
    "Y = np.concatenate((Y_train, Y_test), axis=0)\n",
    "\n",
    "X_external = np.load('./data/input/xexternal.npy')\n",
    "Y_external = np.load('./data/input/yexternal.npy')"
   ]
  },
  {
   "cell_type": "code",
   "execution_count": 3,
   "metadata": {},
   "outputs": [
    {
     "name": "stdout",
     "output_type": "stream",
     "text": [
      "----------------  ## CONFUSION MATRIX ##  ----------------\n",
      "                                    True Labels\n",
      "    Predicted Labels  |  True Positive  |  True Negative\n",
      " Predicted Positive   |        153     |        45   \n",
      " Predicted Negative   |        27     |        140   \n",
      "----------------------------------------------------------\n",
      "Accuracy: 0.803\n",
      "Precision: 0.773\n",
      "Recall: 0.850\n",
      "F1: 0.810\n",
      "Specifity: 0.757\n",
      "Neg-Pred Value: 0.838\n",
      "ROC_AUC_Score: 0.803\n",
      "Gini: 1.607\n"
     ]
    }
   ],
   "source": [
    "layer = RandomForestClassifier(random_state=42, n_jobs=-1)\n",
    "layer.fit(X, Y)\n",
    "full_dataset_prediction = layer.predict(X_external)\n",
    "\n",
    "PrintConfusionMatrix(Y_external, full_dataset_prediction, threshold=0.5)"
   ]
  }
 ],
 "metadata": {
  "interpreter": {
   "hash": "f6c8f846148a3e4d140e6ddf63c190cff559dcf260a4a21539f0978f2b58638c"
  },
  "kernelspec": {
   "display_name": "Python 3.9.1 64-bit",
   "language": "python",
   "name": "python3"
  },
  "language_info": {
   "codemirror_mode": {
    "name": "ipython",
    "version": 3
   },
   "file_extension": ".py",
   "mimetype": "text/x-python",
   "name": "python",
   "nbconvert_exporter": "python",
   "pygments_lexer": "ipython3",
   "version": "3.9.1"
  }
 },
 "nbformat": 4,
 "nbformat_minor": 4
}
